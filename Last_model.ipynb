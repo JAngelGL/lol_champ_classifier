{
  "nbformat": 4,
  "nbformat_minor": 0,
  "metadata": {
    "colab": {
      "provenance": []
    },
    "kernelspec": {
      "name": "python3",
      "display_name": "Python 3"
    },
    "language_info": {
      "name": "python"
    }
  },
  "cells": [
    {
      "cell_type": "code",
      "execution_count": null,
      "metadata": {
        "colab": {
          "base_uri": "https://localhost:8080/"
        },
        "id": "mXE_db-spgjW",
        "outputId": "a53ebac3-b838-4f1d-996e-1c946bc4bc96"
      },
      "outputs": [
        {
          "output_type": "stream",
          "name": "stdout",
          "text": [
            "Drive already mounted at /content/drive; to attempt to forcibly remount, call drive.mount(\"/content/drive\", force_remount=True).\n"
          ]
        }
      ],
      "source": [
        "from google.colab import drive\n",
        "drive.mount('/content/drive')\n",
        "\n",
        "# %cd \"/content/drive/MyDrive/Lol Frames\"\n",
        "\n",
        "path = \"/content/drive/MyDrive/Lol Frames\"\n",
        "\n"
      ]
    },
    {
      "cell_type": "code",
      "source": [
        "import tensorflow as tf\n",
        "from tensorflow.keras import layers, models\n",
        "from tensorflow.keras.preprocessing.image import ImageDataGenerator\n",
        "from tensorflow.keras.applications import ResNet50\n",
        "\n",
        "# Ruta a la carpeta que contiene las subcarpetas de campeones\n",
        "data_dir = path\n",
        "\n",
        "# Definir parámetros\n",
        "batch_size = 32\n",
        "img_height = 150\n",
        "img_width = 150\n",
        "epochs = 20\n",
        "# Definir el número de clases (número de campeones)\n",
        "num_classes = 4  # Reemplaza esto con el número correcto de clases\n",
        "\n",
        "# Crear un generador de datos con aumento de datos\n",
        "train_datagen = ImageDataGenerator(\n",
        "    rescale=1.0/255,  # Normalizar valores de píxeles\n",
        "    validation_split=0.2,  # Dividir datos en entrenamiento y validación\n",
        "    rotation_range=20,  # Rango de rotación aleatoria\n",
        "    width_shift_range=0.2,  # Desplazamiento horizontal aleatorio\n",
        "    height_shift_range=0.2,  # Desplazamiento vertical aleatorio\n",
        "    shear_range=0.2,  # Deformación de corte aleatoria\n",
        "    zoom_range=0.2,  # Aleatorizar el zoom\n",
        "    horizontal_flip=True,  # Volteo horizontal aleatorio\n",
        "    fill_mode='nearest'  # Relleno de píxeles al aplicar transformaciones\n",
        ")\n",
        "\n",
        "# Crear conjuntos de datos de entrenamiento y validación\n",
        "train_generator = train_datagen.flow_from_directory(\n",
        "    data_dir,\n",
        "    target_size=(img_height, img_width),\n",
        "    batch_size=batch_size,\n",
        "    class_mode='categorical',\n",
        "    subset='training'\n",
        ")\n",
        "\n",
        "validation_generator = train_datagen.flow_from_directory(\n",
        "    data_dir,\n",
        "    target_size=(img_height, img_width),\n",
        "    batch_size=batch_size,\n",
        "    class_mode='categorical',\n",
        "    subset='validation'\n",
        ")\n",
        "\n",
        "\n"
      ],
      "metadata": {
        "colab": {
          "base_uri": "https://localhost:8080/"
        },
        "id": "lO29_2xL2Xgl",
        "outputId": "dfc6697d-b2e7-4004-fa97-7f8d81245b97"
      },
      "execution_count": null,
      "outputs": [
        {
          "output_type": "stream",
          "name": "stdout",
          "text": [
            "Found 1039 images belonging to 4 classes.\n",
            "Found 258 images belonging to 4 classes.\n"
          ]
        }
      ]
    },
    {
      "cell_type": "code",
      "source": [
        "# Crear un modelo con más capas\n",
        "base_model = ResNet50(include_top=False, weights='imagenet', input_shape=(img_height, img_width, 3))\n",
        "x = layers.GlobalAveragePooling2D()(base_model.output)\n",
        "x = layers.Dense(256, activation='relu')(x)\n",
        "x = layers.Dropout(0.5)(x)  # Agregar regularización de abandono\n",
        "x = layers.Dense(128, activation='relu')(x)\n",
        "predictions = layers.Dense(num_classes, activation='softmax')(x)\n",
        "\n"
      ],
      "metadata": {
        "id": "yHLcTdJ92wVM"
      },
      "execution_count": null,
      "outputs": []
    },
    {
      "cell_type": "code",
      "source": [
        "model = models.Model(inputs=base_model.input, outputs=predictions)\n",
        "\n",
        "# Congelar las capas del modelo base (ResNet)\n",
        "for layer in base_model.layers:\n",
        "    layer.trainable = False\n",
        "\n",
        "# Compilar el modelo\n",
        "model.compile(optimizer='adam',\n",
        "              loss='categorical_crossentropy',\n",
        "              metrics=['accuracy'])\n",
        "\n",
        "# Entrenar el modelo\n",
        "history = model.fit(\n",
        "    train_generator,\n",
        "    epochs=epochs,\n",
        "    validation_data=validation_generator\n",
        ")"
      ],
      "metadata": {
        "colab": {
          "base_uri": "https://localhost:8080/"
        },
        "id": "e2fupRNo2zEF",
        "outputId": "7de2b255-655c-4e1b-8a69-7343c7ae7870"
      },
      "execution_count": null,
      "outputs": [
        {
          "output_type": "stream",
          "name": "stdout",
          "text": [
            "Epoch 1/20\n",
            "33/33 [==============================] - 469s 12s/step - loss: 1.4640 - accuracy: 0.2551 - val_loss: 1.3996 - val_accuracy: 0.2946\n",
            "Epoch 2/20\n",
            "33/33 [==============================] - 148s 5s/step - loss: 1.4002 - accuracy: 0.2676 - val_loss: 1.3830 - val_accuracy: 0.2946\n",
            "Epoch 3/20\n",
            "33/33 [==============================] - 138s 4s/step - loss: 1.4020 - accuracy: 0.2599 - val_loss: 1.3823 - val_accuracy: 0.2946\n",
            "Epoch 4/20\n",
            "33/33 [==============================] - 148s 5s/step - loss: 1.3942 - accuracy: 0.2782 - val_loss: 1.3791 - val_accuracy: 0.2946\n",
            "Epoch 5/20\n",
            "33/33 [==============================] - 161s 5s/step - loss: 1.3933 - accuracy: 0.2474 - val_loss: 1.3786 - val_accuracy: 0.2946\n",
            "Epoch 6/20\n",
            "33/33 [==============================] - 142s 4s/step - loss: 1.3882 - accuracy: 0.2685 - val_loss: 1.3806 - val_accuracy: 0.2946\n",
            "Epoch 7/20\n",
            "33/33 [==============================] - 150s 5s/step - loss: 1.3847 - accuracy: 0.2936 - val_loss: 1.3793 - val_accuracy: 0.2946\n",
            "Epoch 8/20\n",
            "33/33 [==============================] - 152s 5s/step - loss: 1.3837 - accuracy: 0.2743 - val_loss: 1.3789 - val_accuracy: 0.2946\n",
            "Epoch 9/20\n",
            "33/33 [==============================] - 151s 5s/step - loss: 1.3804 - accuracy: 0.2810 - val_loss: 1.3789 - val_accuracy: 0.2946\n",
            "Epoch 10/20\n",
            "33/33 [==============================] - 148s 4s/step - loss: 1.3817 - accuracy: 0.2907 - val_loss: 1.3781 - val_accuracy: 0.2946\n",
            "Epoch 11/20\n",
            "33/33 [==============================] - 149s 4s/step - loss: 1.3817 - accuracy: 0.3003 - val_loss: 1.3784 - val_accuracy: 0.2946\n",
            "Epoch 12/20\n",
            "33/33 [==============================] - 133s 4s/step - loss: 1.3803 - accuracy: 0.2868 - val_loss: 1.3792 - val_accuracy: 0.2946\n",
            "Epoch 13/20\n",
            "33/33 [==============================] - 147s 4s/step - loss: 1.3801 - accuracy: 0.2955 - val_loss: 1.3787 - val_accuracy: 0.2946\n",
            "Epoch 14/20\n",
            "33/33 [==============================] - 149s 5s/step - loss: 1.3826 - accuracy: 0.2955 - val_loss: 1.3790 - val_accuracy: 0.2946\n",
            "Epoch 15/20\n",
            "33/33 [==============================] - 148s 5s/step - loss: 1.3807 - accuracy: 0.2955 - val_loss: 1.3792 - val_accuracy: 0.2946\n",
            "Epoch 16/20\n",
            "33/33 [==============================] - 146s 4s/step - loss: 1.3804 - accuracy: 0.2955 - val_loss: 1.3784 - val_accuracy: 0.2946\n",
            "Epoch 17/20\n",
            "33/33 [==============================] - 148s 5s/step - loss: 1.3800 - accuracy: 0.2955 - val_loss: 1.3791 - val_accuracy: 0.2946\n",
            "Epoch 18/20\n",
            "33/33 [==============================] - 149s 5s/step - loss: 1.3795 - accuracy: 0.2955 - val_loss: 1.3784 - val_accuracy: 0.2946\n",
            "Epoch 19/20\n",
            "33/33 [==============================] - 132s 4s/step - loss: 1.3805 - accuracy: 0.2955 - val_loss: 1.3787 - val_accuracy: 0.2946\n",
            "Epoch 20/20\n",
            "33/33 [==============================] - 148s 5s/step - loss: 1.3790 - accuracy: 0.2955 - val_loss: 1.3787 - val_accuracy: 0.2946\n"
          ]
        }
      ]
    },
    {
      "cell_type": "code",
      "source": [
        "\n",
        "# Guardar el modelo entrenado\n",
        "model.save('lol_champion_classifier4.1.h5')"
      ],
      "metadata": {
        "colab": {
          "base_uri": "https://localhost:8080/"
        },
        "id": "DJl2xc3uzx2g",
        "outputId": "dd601b09-9aa4-4bad-a3bc-e06f590aa3ce"
      },
      "execution_count": null,
      "outputs": [
        {
          "output_type": "stream",
          "name": "stderr",
          "text": [
            "/usr/local/lib/python3.10/dist-packages/keras/src/engine/training.py:3079: UserWarning: You are saving your model as an HDF5 file via `model.save()`. This file format is considered legacy. We recommend using instead the native Keras format, e.g. `model.save('my_model.keras')`.\n",
            "  saving_api.save_model(\n"
          ]
        }
      ]
    },
    {
      "cell_type": "code",
      "source": [
        "import matplotlib.pyplot as plt\n",
        "\n",
        "# Graficar la precisión\n",
        "plt.plot(history.history['accuracy'], label='accuracy')\n",
        "plt.plot(history.history['val_accuracy'], label = 'val_accuracy')\n",
        "plt.xlabel('Épocas')\n",
        "plt.ylabel('Precisión')\n",
        "plt.ylim([0, 1])\n",
        "plt.legend(loc='lower right')\n",
        "plt.title('Precisión del Modelo')\n",
        "plt.show()\n",
        "\n",
        "# Graficar la pérdida\n",
        "plt.plot(history.history['loss'], label='loss')\n",
        "plt.plot(history.history['val_loss'], label = 'val_loss')\n",
        "plt.xlabel('Épocas')\n",
        "plt.ylabel('Pérdida')\n",
        "plt.ylim([0, max(max(history.history['loss']), max(history.history['val_loss']))])\n",
        "plt.legend(loc='upper right')\n",
        "plt.title('Pérdida del Modelo')\n",
        "plt.show()"
      ],
      "metadata": {
        "colab": {
          "base_uri": "https://localhost:8080/",
          "height": 931
        },
        "id": "aizpwQOdz95E",
        "outputId": "bf3aa118-7c03-4472-eabf-04650c248604"
      },
      "execution_count": null,
      "outputs": [
        {
          "output_type": "display_data",
          "data": {
            "text/plain": [
              "<Figure size 640x480 with 1 Axes>"
            ],
            "image/png": "[encoded data removed]"
          },
          "metadata": {}
        },
        {
          "output_type": "display_data",
          "data": {
            "text/plain": [
              "<Figure size 640x480 with 1 Axes>"
            ],
            "image/png": "[encoded data removed]"
          },
          "metadata": {}
        }
      ]
    },
    {
      "cell_type": "code",
      "source": [
        "from sklearn.metrics import confusion_matrix, classification_report\n",
        "\n",
        "# Genera predicciones para el conjunto de validación\n",
        "predictions = model.predict(validation_generator)\n",
        "\n",
        "# Convierte las predicciones a etiquetas de clase (usando argmax)\n",
        "predicted_classes = predictions.argmax(axis=1)\n",
        "\n",
        "# Obtiene las etiquetas verdaderas del generador de validación\n",
        "true_classes = validation_generator.classes\n",
        "\n",
        "# Calcula la matriz de confusión\n",
        "confusion = confusion_matrix(true_classes, predicted_classes)\n",
        "\n",
        "# Imprime la matriz de confusión\n",
        "print(\"Matriz de confusión:\")\n",
        "print(confusion)\n",
        "\n",
        "# Calcula el accuracy por clase\n",
        "accuracy_per_class = confusion.diagonal() / confusion.sum(axis=1)\n",
        "\n",
        "# Imprime el accuracy por clase\n",
        "print(\"Accuracy por clase:\")\n",
        "for i, class_name in enumerate(validation_generator.class_indices):\n",
        "    print(f\"{class_name}: {accuracy_per_class[i]}\")\n",
        "\n",
        "# Imprime un informe de clasificación detallado\n",
        "print(\"\\nInforme de clasificación:\")\n",
        "print(classification_report(true_classes, predicted_classes, target_names=validation_generator.class_indices))\n"
      ],
      "metadata": {
        "colab": {
          "base_uri": "https://localhost:8080/"
        },
        "id": "Xliu_XHf0I8M",
        "outputId": "50075a57-f617-4fcd-e46d-f009b5be8386"
      },
      "execution_count": null,
      "outputs": [
        {
          "output_type": "stream",
          "name": "stdout",
          "text": [
            "9/9 [==============================] - 27s 3s/step\n",
            "Matriz de confusión:\n",
            "[[76  0  0  0]\n",
            " [59  0  0  0]\n",
            " [55  0  0  0]\n",
            " [68  0  0  0]]\n",
            "Accuracy por clase:\n",
            "alistar: 1.0\n",
            "drmundo: 0.0\n",
            "garen: 0.0\n",
            "jhin: 0.0\n",
            "\n",
            "Informe de clasificación:\n",
            "              precision    recall  f1-score   support\n",
            "\n",
            "     alistar       0.29      1.00      0.46        76\n",
            "     drmundo       0.00      0.00      0.00        59\n",
            "       garen       0.00      0.00      0.00        55\n",
            "        jhin       0.00      0.00      0.00        68\n",
            "\n",
            "    accuracy                           0.29       258\n",
            "   macro avg       0.07      0.25      0.11       258\n",
            "weighted avg       0.09      0.29      0.13       258\n",
            "\n"
          ]
        },
        {
          "output_type": "stream",
          "name": "stderr",
          "text": [
            "/usr/local/lib/python3.10/dist-packages/sklearn/metrics/_classification.py:1344: UndefinedMetricWarning: Precision and F-score are ill-defined and being set to 0.0 in labels with no predicted samples. Use `zero_division` parameter to control this behavior.\n",
            "  _warn_prf(average, modifier, msg_start, len(result))\n",
            "/usr/local/lib/python3.10/dist-packages/sklearn/metrics/_classification.py:1344: UndefinedMetricWarning: Precision and F-score are ill-defined and being set to 0.0 in labels with no predicted samples. Use `zero_division` parameter to control this behavior.\n",
            "  _warn_prf(average, modifier, msg_start, len(result))\n",
            "/usr/local/lib/python3.10/dist-packages/sklearn/metrics/_classification.py:1344: UndefinedMetricWarning: Precision and F-score are ill-defined and being set to 0.0 in labels with no predicted samples. Use `zero_division` parameter to control this behavior.\n",
            "  _warn_prf(average, modifier, msg_start, len(result))\n"
          ]
        }
      ]
    },
    {
      "cell_type": "code",
      "source": [],
      "metadata": {
        "id": "SnBnKbxQE0Tr"
      },
      "execution_count": null,
      "outputs": []
    }
  ]
}