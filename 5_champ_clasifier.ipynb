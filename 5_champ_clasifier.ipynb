{
  "cells": [
    {
      "cell_type": "code",
      "execution_count": null,
      "metadata": {
        "colab": {
          "base_uri": "https://localhost:8080/"
        },
        "id": "7RWwRjCcYPJW",
        "outputId": "91db247c-14fd-4bbd-eda5-2f50995e8c15"
      },
      "outputs": [
        {
          "name": "stdout",
          "output_type": "stream",
          "text": [
            "Drive already mounted at /content/drive; to attempt to forcibly remount, call drive.mount(\"/content/drive\", force_remount=True).\n",
            "/content/drive/MyDrive/Lol Frames2\n"
          ]
        }
      ],
      "source": [
        "from google.colab import drive\n",
        "drive.mount('/content/drive')\n",
        "\n",
        "%cd \"/content/drive/MyDrive/Lol Frames2\"\n",
        "\n",
        "path = \"/content/drive/MyDrive/Lol Frames2\""
      ]
    },
    {
      "cell_type": "code",
      "execution_count": null,
      "metadata": {
        "id": "NRu1wXo6YRFk"
      },
      "outputs": [],
      "source": [
        "import tensorflow as tf\n",
        "from tensorflow.keras import layers, models\n",
        "from tensorflow.keras.preprocessing.image import ImageDataGenerator\n",
        "from tensorflow.keras.applications import ResNet50\n",
        "\n",
        "# Ruta a la carpeta que contiene las subcarpetas de campeones\n",
        "data_dir = path\n",
        "\n",
        "# Definir parámetros\n",
        "batch_size = 32\n",
        "img_height = 150\n",
        "img_width = 150\n",
        "epochs =30\n",
        "# Definir el número de clases (número de campeones)\n",
        "num_classes = 5  # Reemplaza esto con el número correcto de clases\n"
      ]
    },
    {
      "cell_type": "code",
      "execution_count": null,
      "metadata": {
        "id": "LCuR05nAYXWm"
      },
      "outputs": [],
      "source": [
        "# Crear un generador de datos\n",
        "train_datagen = ImageDataGenerator(\n",
        "    rescale=1.0/255,  # Normalizar valores de píxeles\n",
        "    validation_split=0.2  # Dividir datos en entrenamiento y validación\n",
        ")\n"
      ]
    },
    {
      "cell_type": "code",
      "execution_count": null,
      "metadata": {
        "colab": {
          "base_uri": "https://localhost:8080/"
        },
        "id": "gwj961pYYZhs",
        "outputId": "be80f16c-0cba-47f8-aaee-3ecd3bacf06b"
      },
      "outputs": [
        {
          "name": "stdout",
          "output_type": "stream",
          "text": [
            "Found 1463 images belonging to 5 classes.\n",
            "Found 362 images belonging to 5 classes.\n"
          ]
        }
      ],
      "source": [
        "# Crear conjuntos de datos de entrenamiento y validación\n",
        "train_generator = train_datagen.flow_from_directory(\n",
        "    data_dir,\n",
        "    target_size=(img_height, img_width),\n",
        "    batch_size=batch_size,\n",
        "    class_mode='categorical',\n",
        "    subset='training'\n",
        ")\n",
        "\n",
        "validation_generator = train_datagen.flow_from_directory(\n",
        "    data_dir,\n",
        "    target_size=(img_height, img_width),\n",
        "    batch_size=batch_size,\n",
        "    class_mode='categorical',\n",
        "    subset='validation'\n",
        ")\n"
      ]
    },
    {
      "cell_type": "code",
      "execution_count": null,
      "metadata": {
        "id": "GadJM4XuYdQH"
      },
      "outputs": [],
      "source": [
        "# Crear un modelo ResNet50 preentrenado\n",
        "base_model = ResNet50(include_top=False, weights='imagenet', input_shape=(img_height, img_width, 3))\n",
        "x = layers.GlobalAveragePooling2D()(base_model.output)\n",
        "x = layers.Dense(128, activation='relu')(x)\n",
        "predictions = layers.Dense(num_classes, activation='softmax')(x)\n",
        "\n",
        "model = models.Model(inputs=base_model.input, outputs=predictions)\n",
        "\n",
        "# Congelar las capas del modelo base (ResNet)\n",
        "for layer in base_model.layers:\n",
        "    layer.trainable = False\n"
      ]
    },
    {
      "cell_type": "code",
      "execution_count": null,
      "metadata": {
        "id": "o_r-RJuKYd2p"
      },
      "outputs": [],
      "source": [
        "# Compilar el modelo\n",
        "model.compile(optimizer='adam',\n",
        "              loss='categorical_crossentropy',\n",
        "              metrics=['accuracy'])\n"
      ]
    },
    {
      "cell_type": "code",
      "execution_count": null,
      "metadata": {
        "colab": {
          "background_save": true,
          "base_uri": "https://localhost:8080/"
        },
        "id": "8nWPjA0vYhCy",
        "outputId": "c48ad948-6032-4efa-9c7b-be0a7796edcf"
      },
      "outputs": [
        {
          "name": "stdout",
          "output_type": "stream",
          "text": [
            "Epoch 1/30\n",
            "46/46 [==============================] - 405s 9s/step - loss: 1.6346 - accuracy: 0.2235 - val_loss: 1.5832 - val_accuracy: 0.2376\n",
            "Epoch 2/30\n",
            "46/46 [==============================] - 182s 4s/step - loss: 1.5802 - accuracy: 0.2529 - val_loss: 1.5567 - val_accuracy: 0.3812\n",
            "Epoch 3/30\n",
            "46/46 [==============================] - 191s 4s/step - loss: 1.5265 - accuracy: 0.3267 - val_loss: 1.6428 - val_accuracy: 0.1796\n",
            "Epoch 4/30\n",
            "46/46 [==============================] - 182s 4s/step - loss: 1.5485 - accuracy: 0.3001 - val_loss: 1.5188 - val_accuracy: 0.2376\n",
            "Epoch 5/30\n",
            "46/46 [==============================] - 184s 4s/step - loss: 1.4766 - accuracy: 0.4197 - val_loss: 1.5120 - val_accuracy: 0.2956\n",
            "Epoch 6/30\n",
            "46/46 [==============================] - 182s 4s/step - loss: 1.4550 - accuracy: 0.4293 - val_loss: 1.4698 - val_accuracy: 0.3398\n",
            "Epoch 7/30\n",
            "45/46 [============================>.] - ETA: 3s - loss: 1.3917 - accuracy: 0.4465"
          ]
        },
        {
          "name": "stderr",
          "output_type": "stream",
          "text": [
            "ERROR:root:Internal Python error in the inspect module.\n",
            "Below is the traceback from this internal error.\n",
            "\n",
            "\n",
            "KeyboardInterrupt\n",
            "\n"
          ]
        }
      ],
      "source": [
        "# Entrenar el modelo\n",
        "history = model.fit(\n",
        "    train_generator,\n",
        "    epochs=epochs,\n",
        "    validation_data=validation_generator\n",
        ")"
      ]
    },
    {
      "cell_type": "code",
      "execution_count": null,
      "metadata": {
        "colab": {
          "base_uri": "https://localhost:8080/"
        },
        "id": "EtqLSmByYlmq",
        "outputId": "f3761924-8c28-44af-8a56-d13f5fcb1b7c"
      },
      "outputs": [
        {
          "name": "stderr",
          "output_type": "stream",
          "text": [
            "/usr/local/lib/python3.10/dist-packages/keras/src/engine/training.py:3000: UserWarning: You are saving your model as an HDF5 file via `model.save()`. This file format is considered legacy. We recommend using instead the native Keras format, e.g. `model.save('my_model.keras')`.\n",
            "  saving_api.save_model(\n"
          ]
        }
      ],
      "source": [
        "# Guardar el modelo entrenado\n",
        "model.save('lol_champion_classifier4 03/11/23.h5')\n"
      ]
    },
    {
      "cell_type": "code",
      "execution_count": null,
      "metadata": {
        "colab": {
          "base_uri": "https://localhost:8080/",
          "height": 931
        },
        "id": "lPhXC_Ff5TCZ",
        "outputId": "21da5117-522a-4270-e710-2febc4c6f2f1"
      },
      "outputs": [
        {
          "data": {
            "image/png": "[encoded data removed]",
            "text/plain": [
              "<Figure size 640x480 with 1 Axes>"
            ]
          },
          "metadata": {},
          "output_type": "display_data"
        },
        {
          "data": {
            "image/png": "[encoded data removed]",
            "text/plain": [
              "<Figure size 640x480 with 1 Axes>"
            ]
          },
          "metadata": {},
          "output_type": "display_data"
        }
      ],
      "source": [
        "import matplotlib.pyplot as plt\n",
        "\n",
        "# Graficar la precisión\n",
        "plt.plot(history.history['accuracy'], label='accuracy')\n",
        "plt.plot(history.history['val_accuracy'], label = 'val_accuracy')\n",
        "plt.xlabel('Épocas')\n",
        "plt.ylabel('Precisión')\n",
        "plt.ylim([0, 1])\n",
        "plt.legend(loc='lower right')\n",
        "plt.title('Precisión del Modelo')\n",
        "plt.show()\n",
        "\n",
        "# Graficar la pérdida\n",
        "plt.plot(history.history['loss'], label='loss')\n",
        "plt.plot(history.history['val_loss'], label = 'val_loss')\n",
        "plt.xlabel('Épocas')\n",
        "plt.ylabel('Pérdida')\n",
        "plt.ylim([0, max(max(history.history['loss']), max(history.history['val_loss']))])\n",
        "plt.legend(loc='upper right')\n",
        "plt.title('Pérdida del Modelo')\n",
        "plt.show()"
      ]
    },
    {
      "cell_type": "code",
      "execution_count": null,
      "metadata": {
        "colab": {
          "base_uri": "https://localhost:8080/"
        },
        "id": "gWR62aD5ElMC",
        "outputId": "d34c8a62-9339-4576-ff4d-17709154d961"
      },
      "outputs": [
        {
          "name": "stdout",
          "output_type": "stream",
          "text": [
            "12/12 [==============================] - 33s 3s/step\n",
            "Matriz de confusión:\n",
            "[[60 10  1  0 10]\n",
            " [40 10  1  0 14]\n",
            " [63 15  1  0  7]\n",
            " [39 10  1  0  4]\n",
            " [58 12  0  0  6]]\n",
            "Accuracy por clase:\n",
            "aatrox: 0.7407407407407407\n",
            "ahri: 0.15384615384615385\n",
            "akali: 0.011627906976744186\n",
            "akshan: 0.0\n",
            "alistar: 0.07894736842105263\n",
            "\n",
            "Informe de clasificación:\n",
            "              precision    recall  f1-score   support\n",
            "\n",
            "      aatrox       0.23      0.74      0.35        81\n",
            "        ahri       0.18      0.15      0.16        65\n",
            "       akali       0.25      0.01      0.02        86\n",
            "      akshan       0.00      0.00      0.00        54\n",
            "     alistar       0.15      0.08      0.10        76\n",
            "\n",
            "    accuracy                           0.21       362\n",
            "   macro avg       0.16      0.20      0.13       362\n",
            "weighted avg       0.17      0.21      0.13       362\n",
            "\n"
          ]
        },
        {
          "name": "stderr",
          "output_type": "stream",
          "text": [
            "/usr/local/lib/python3.10/dist-packages/sklearn/metrics/_classification.py:1344: UndefinedMetricWarning: Precision and F-score are ill-defined and being set to 0.0 in labels with no predicted samples. Use `zero_division` parameter to control this behavior.\n",
            "  _warn_prf(average, modifier, msg_start, len(result))\n",
            "/usr/local/lib/python3.10/dist-packages/sklearn/metrics/_classification.py:1344: UndefinedMetricWarning: Precision and F-score are ill-defined and being set to 0.0 in labels with no predicted samples. Use `zero_division` parameter to control this behavior.\n",
            "  _warn_prf(average, modifier, msg_start, len(result))\n",
            "/usr/local/lib/python3.10/dist-packages/sklearn/metrics/_classification.py:1344: UndefinedMetricWarning: Precision and F-score are ill-defined and being set to 0.0 in labels with no predicted samples. Use `zero_division` parameter to control this behavior.\n",
            "  _warn_prf(average, modifier, msg_start, len(result))\n"
          ]
        }
      ],
      "source": [
        "from sklearn.metrics import confusion_matrix, classification_report\n",
        "\n",
        "# Genera predicciones para el conjunto de validación\n",
        "predictions = model.predict(validation_generator)\n",
        "\n",
        "# Convierte las predicciones a etiquetas de clase (usando argmax)\n",
        "predicted_classes = predictions.argmax(axis=1)\n",
        "\n",
        "# Obtiene las etiquetas verdaderas del generador de validación\n",
        "true_classes = validation_generator.classes\n",
        "\n",
        "# Calcula la matriz de confusión\n",
        "confusion = confusion_matrix(true_classes, predicted_classes)\n",
        "\n",
        "# Imprime la matriz de confusión\n",
        "print(\"Matriz de confusión:\")\n",
        "print(confusion)\n",
        "\n",
        "# Calcula el accuracy por clase\n",
        "accuracy_per_class = confusion.diagonal() / confusion.sum(axis=1)\n",
        "\n",
        "# Imprime el accuracy por clase\n",
        "print(\"Accuracy por clase:\")\n",
        "for i, class_name in enumerate(validation_generator.class_indices):\n",
        "    print(f\"{class_name}: {accuracy_per_class[i]}\")\n",
        "\n",
        "# Imprime un informe de clasificación detallado\n",
        "print(\"\\nInforme de clasificación:\")\n",
        "print(classification_report(true_classes, predicted_classes, target_names=validation_generator.class_indices))\n"
      ]
    },
    {
      "cell_type": "code",
      "execution_count": null,
      "metadata": {
        "colab": {
          "base_uri": "https://localhost:8080/"
        },
        "id": "_bYPELxhZ3xi",
        "outputId": "8c017ec5-3a89-4bcd-9fb6-7d87967b0851"
      },
      "outputs": [
        {
          "name": "stdout",
          "output_type": "stream",
          "text": [
            "aatrox\tahri  akali  akshan  alistar  lol_champion_classifier2.h5  lol_champion_classifier.h5\n"
          ]
        }
      ],
      "source": [
        "!ls\n"
      ]
    },
    {
      "cell_type": "code",
      "execution_count": null,
      "metadata": {
        "colab": {
          "base_uri": "https://localhost:8080/"
        },
        "id": "o5uVaWUwaVni",
        "outputId": "c09e5527-7b3a-43b4-e350-20fd8f5cfc37"
      },
      "outputs": [
        {
          "name": "stdout",
          "output_type": "stream",
          "text": [
            "1/1 [==============================] - 1s 1s/step\n",
            "El campeón predicho es: akali\n"
          ]
        }
      ],
      "source": [
        "import tensorflow as tf\n",
        "from tensorflow.keras.preprocessing import image\n",
        "import numpy as np\n",
        "\n",
        "# Cargar el modelo entrenado\n",
        "model = tf.keras.models.load_model('lol_champion_classifier3.h5')\n",
        "\n",
        "# Lista de nombres de campeones\n",
        "champion_names = ['atroxx', 'ahir', 'akali', 'akshan','alistar' ]  # Agrega el nombre de tus campeones aquí en el mismo orden que se usó para el entrenamiento\n",
        "\n",
        "# Cargar una imagen para probar (reemplaza 'imagen_a_probar.jpg' con la ruta de tu imagen)\n",
        "img_path = '/content/aatroxturn.jpg'\n",
        "#img_path = '/content/ability_0103_W1.jpg'\n",
        "img = image.load_img(img_path, target_size=(150, 150))\n",
        "img_array = image.img_to_array(img)\n",
        "img_array = np.expand_dims(img_array, axis=0)\n",
        "img_array /= 255.0  # Normaliza la imagen\n",
        "\n",
        "# Realizar una predicción\n",
        "predictions = model.predict(img_array)\n",
        "\n",
        "# Obtener la clase predicha\n",
        "predicted_class_index = np.argmax(predictions)\n",
        "predicted_champion = champion_names[predicted_class_index]\n",
        "\n",
        "print(f\"El campeón predicho es: {predicted_champion}\")"
      ]
    },
    {
      "cell_type": "code",
      "execution_count": null,
      "metadata": {
        "id": "gH-XKZ8YbEMh"
      },
      "outputs": [],
      "source": []
    }
  ],
  "metadata": {
    "colab": {
      "provenance": []
    },
    "kernelspec": {
      "display_name": "Python 3",
      "name": "python3"
    },
    "language_info": {
      "name": "python"
    }
  },
  "nbformat": 4,
  "nbformat_minor": 0
}